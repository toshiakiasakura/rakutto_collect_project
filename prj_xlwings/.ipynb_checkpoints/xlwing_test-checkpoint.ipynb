{
 "cells": [
  {
   "cell_type": "code",
   "execution_count": 40,
   "metadata": {},
   "outputs": [],
   "source": [
    "import xlwings as xw\n",
    "import glob"
   ]
  },
  {
   "cell_type": "code",
   "execution_count": 41,
   "metadata": {},
   "outputs": [],
   "source": [
    "PATH = \"./xlsx_files\""
   ]
  },
  {
   "cell_type": "code",
   "execution_count": 42,
   "metadata": {},
   "outputs": [],
   "source": [
    "path2xlsx = PATH + \"/*.xlsx\"\n",
    "xlsxpaths = glob.glob(path2xlsx)"
   ]
  },
  {
   "cell_type": "code",
   "execution_count": 43,
   "metadata": {},
   "outputs": [
    {
     "data": {
      "text/plain": [
       "['./xlsx_files/excel_hacking_3.xlsx',\n",
       " './xlsx_files/excel_hacking_2.xlsx',\n",
       " './xlsx_files/~$excel_hacking_yn.xlsx',\n",
       " './xlsx_files/excel_hacking_4.xlsx',\n",
       " './xlsx_files/excel_hacking_yn.xlsx',\n",
       " './xlsx_files/excel_hacking_1.xlsx']"
      ]
     },
     "execution_count": 43,
     "metadata": {},
     "output_type": "execute_result"
    }
   ],
   "source": [
    "xlsxpaths"
   ]
  },
  {
   "cell_type": "code",
   "execution_count": 44,
   "metadata": {},
   "outputs": [],
   "source": [
    "wb=xw.Book(r'./xlsx_files/excel_hacking_yn.xlsx')"
   ]
  },
  {
   "cell_type": "code",
   "execution_count": 45,
   "metadata": {},
   "outputs": [
    {
     "name": "stdout",
     "output_type": "stream",
     "text": [
      "Sheet1\n"
     ]
    }
   ],
   "source": [
    "for ws in wb.sheets:\n",
    "    print(ws.name)"
   ]
  },
  {
   "cell_type": "code",
   "execution_count": 46,
   "metadata": {},
   "outputs": [],
   "source": [
    "ws = wb.sheets['Sheet1']"
   ]
  },
  {
   "cell_type": "code",
   "execution_count": 47,
   "metadata": {},
   "outputs": [],
   "source": [
    "shapes=ws.shapes"
   ]
  },
  {
   "cell_type": "code",
   "execution_count": 48,
   "metadata": {},
   "outputs": [
    {
     "data": {
      "text/plain": [
       "Shapes([<Shape 'Oval 1' in <Sheet [excel_hacking_yn.xlsx]Sheet1>>, <Shape 'Oval 2' in <Sheet [excel_hacking_yn.xlsx]Sheet1>>, <Shape 'Oval 3' in <Sheet [excel_hacking_yn.xlsx]Sheet1>>, ...])"
      ]
     },
     "execution_count": 48,
     "metadata": {},
     "output_type": "execute_result"
    }
   ],
   "source": [
    "shapes"
   ]
  },
  {
   "cell_type": "code",
   "execution_count": 49,
   "metadata": {},
   "outputs": [
    {
     "data": {
      "text/plain": [
       "14"
      ]
     },
     "execution_count": 49,
     "metadata": {},
     "output_type": "execute_result"
    }
   ],
   "source": [
    "len(shapes)"
   ]
  },
  {
   "cell_type": "code",
   "execution_count": 50,
   "metadata": {},
   "outputs": [
    {
     "name": "stdout",
     "output_type": "stream",
     "text": [
      "shape1\n",
      "hight: 25.0\n",
      "width: 24.0\n",
      "top: 18.0\n",
      "left: 87.0\n",
      "shape2\n",
      "hight: 25.0\n",
      "width: 24.0\n",
      "top: 60.0\n",
      "left: 85.0\n",
      "shape3\n",
      "hight: 25.0\n",
      "width: 24.0\n",
      "top: 38.0\n",
      "left: 113.0\n",
      "shape4\n",
      "hight: 25.0\n",
      "width: 24.0\n",
      "top: 77.0\n",
      "left: 117.0\n",
      "shape5\n",
      "hight: 25.0\n",
      "width: 24.0\n",
      "top: 99.0\n",
      "left: 117.0\n",
      "shape6\n",
      "hight: 25.0\n",
      "width: 24.0\n",
      "top: 117.0\n",
      "left: 85.0\n",
      "shape7\n",
      "hight: 25.0\n",
      "width: 24.0\n",
      "top: 137.0\n",
      "left: 91.0\n",
      "shape8\n",
      "hight: 25.0\n",
      "width: 24.0\n",
      "top: 159.0\n",
      "left: 115.0\n",
      "shape9\n",
      "hight: 25.0\n",
      "width: 24.0\n",
      "top: 178.0\n",
      "left: 86.0\n",
      "shape10\n",
      "hight: 25.0\n",
      "width: 24.0\n",
      "top: 199.0\n",
      "left: 113.0\n",
      "shape11\n",
      "hight: 25.0\n",
      "width: 24.0\n",
      "top: 218.0\n",
      "left: 84.0\n",
      "shape12\n",
      "hight: 25.0\n",
      "width: 24.0\n",
      "top: 238.0\n",
      "left: 115.0\n",
      "shape13\n",
      "hight: 25.0\n",
      "width: 24.0\n",
      "top: 257.0\n",
      "left: 86.0\n",
      "shape14\n",
      "hight: 25.0\n",
      "width: 24.0\n",
      "top: 278.0\n",
      "left: 109.0\n"
     ]
    }
   ],
   "source": [
    "for i in range(1,len(shapes)+1):\n",
    "    print('shape'+str(i))\n",
    "    shape = ws.shapes[i-1]\n",
    "    print('hight: '+ str(shape.height))\n",
    "    print('width: '+ str(shape.width))\n",
    "    print('top: '+ str(shape.top))\n",
    "    print('left: '+ str(shape.left))\n",
    "    "
   ]
  },
  {
   "cell_type": "code",
   "execution_count": 39,
   "metadata": {},
   "outputs": [
    {
     "name": "stdout",
     "output_type": "stream",
     "text": [
      "shape1\n",
      "shape_center_top: 30.5\n",
      "shape_center_left: 99.0\n",
      "shape2\n",
      "shape_center_top: 68.5\n",
      "shape_center_left: 99.0\n",
      "shape3\n",
      "shape_center_top: 50.5\n",
      "shape_center_left: 125.0\n",
      "shape4\n",
      "shape_center_top: 91.5\n",
      "shape_center_left: 125.0\n"
     ]
    }
   ],
   "source": [
    "for i in range(1,len(shapes)+1):\n",
    "    print('shape'+str(i))\n",
    "    shape = ws.shapes[i-1]\n",
    "    shape_center_top = (shape.height/2)+shape.top\n",
    "    shape_center_left = (shape.width/2)+shape.left\n",
    "    print('shape_center_top: '+ str(shape_center_top))\n",
    "    print('shape_center_left: '+ str(shape_center_left))"
   ]
  },
  {
   "cell_type": "code",
   "execution_count": 57,
   "metadata": {},
   "outputs": [],
   "source": [
    "max_col=20\n",
    "max_row=20"
   ]
  },
  {
   "cell_type": "code",
   "execution_count": 58,
   "metadata": {},
   "outputs": [
    {
     "data": {
      "text/plain": [
       "<Range [excel_hacking_yn.xlsx]Sheet1!$A$1:$T$20>"
      ]
     },
     "execution_count": 58,
     "metadata": {},
     "output_type": "execute_result"
    }
   ],
   "source": [
    "ws.range((1,1),(max_row,max_col))"
   ]
  },
  {
   "cell_type": "code",
   "execution_count": 59,
   "metadata": {},
   "outputs": [],
   "source": [
    "l_row=[]\n",
    "for i in range(1,max_row+1):\n",
    "    l_row.append(ws.range((i,1)).top)"
   ]
  },
  {
   "cell_type": "code",
   "execution_count": 60,
   "metadata": {},
   "outputs": [
    {
     "data": {
      "text/plain": [
       "[0.0,\n",
       " 20.0,\n",
       " 40.0,\n",
       " 60.0,\n",
       " 80.0,\n",
       " 100.0,\n",
       " 120.0,\n",
       " 140.0,\n",
       " 160.0,\n",
       " 180.0,\n",
       " 200.0,\n",
       " 220.0,\n",
       " 240.0,\n",
       " 260.0,\n",
       " 280.0,\n",
       " 300.0,\n",
       " 320.0,\n",
       " 340.0,\n",
       " 360.0,\n",
       " 380.0]"
      ]
     },
     "execution_count": 60,
     "metadata": {},
     "output_type": "execute_result"
    }
   ],
   "source": [
    "l_row"
   ]
  },
  {
   "cell_type": "code",
   "execution_count": 61,
   "metadata": {},
   "outputs": [],
   "source": [
    "l_col=[]\n",
    "for i in range(1,max_col+1):\n",
    "    l_col.append(ws.range((1,i)).left)"
   ]
  },
  {
   "cell_type": "code",
   "execution_count": 62,
   "metadata": {},
   "outputs": [
    {
     "data": {
      "text/plain": [
       "[0.0,\n",
       " 75.0,\n",
       " 150.0,\n",
       " 225.0,\n",
       " 300.0,\n",
       " 375.0,\n",
       " 450.0,\n",
       " 525.0,\n",
       " 600.0,\n",
       " 675.0,\n",
       " 750.0,\n",
       " 825.0,\n",
       " 900.0,\n",
       " 975.0,\n",
       " 1050.0,\n",
       " 1125.0,\n",
       " 1200.0,\n",
       " 1275.0,\n",
       " 1350.0,\n",
       " 1425.0]"
      ]
     },
     "execution_count": 62,
     "metadata": {},
     "output_type": "execute_result"
    }
   ],
   "source": [
    "l_col"
   ]
  },
  {
   "cell_type": "code",
   "execution_count": 63,
   "metadata": {},
   "outputs": [
    {
     "name": "stdout",
     "output_type": "stream",
     "text": [
      "shape1 location\n",
      "[2, 2]\n",
      "shape2 location\n",
      "[4, 2]\n",
      "shape3 location\n",
      "[3, 2]\n",
      "shape4 location\n",
      "[5, 2]\n",
      "shape5 location\n",
      "[6, 2]\n",
      "shape6 location\n",
      "[7, 2]\n",
      "shape7 location\n",
      "[8, 2]\n",
      "shape8 location\n",
      "[9, 2]\n",
      "shape9 location\n",
      "[10, 2]\n",
      "shape10 location\n",
      "[11, 2]\n",
      "shape11 location\n",
      "[12, 2]\n",
      "shape12 location\n",
      "[13, 2]\n",
      "shape13 location\n",
      "[14, 2]\n",
      "shape14 location\n",
      "[15, 2]\n"
     ]
    }
   ],
   "source": [
    "for i in range(1,len(shapes)+1):\n",
    "    print('shape'+str(i)+' location')\n",
    "    shape = ws.shapes[i-1]\n",
    "    shape_center_top = (shape.height/2)+shape.top\n",
    "    shape_center_left = (shape.width/2)+shape.left\n",
    "    \n",
    "    l_loc=[]\n",
    "    \n",
    "    for i in range(1,max_row+1):\n",
    "        if shape_center_top < l_row[i-1]:\n",
    "            l_loc.append(i-1)\n",
    "            break\n",
    "            \n",
    "    for i in range(1,max_col+1):\n",
    "        if shape_center_left < l_col[i-1]:\n",
    "            l_loc.append(i-1)\n",
    "            break\n",
    "    \n",
    "    print(l_loc)"
   ]
  },
  {
   "cell_type": "code",
   "execution_count": 64,
   "metadata": {},
   "outputs": [
    {
     "name": "stdout",
     "output_type": "stream",
     "text": [
      "shape1 location\n",
      "75.0\n",
      "shape2 location\n",
      "75.0\n",
      "shape3 location\n",
      "75.0\n",
      "shape4 location\n",
      "75.0\n",
      "shape5 location\n",
      "75.0\n",
      "shape6 location\n",
      "75.0\n",
      "shape7 location\n",
      "75.0\n",
      "shape8 location\n",
      "75.0\n",
      "shape9 location\n",
      "75.0\n",
      "shape10 location\n",
      "75.0\n",
      "shape11 location\n",
      "75.0\n",
      "shape12 location\n",
      "75.0\n",
      "shape13 location\n",
      "75.0\n",
      "shape14 location\n",
      "75.0\n"
     ]
    }
   ],
   "source": [
    "for i in range(1,len(shapes)+1):\n",
    "    print('shape'+str(i)+' location')\n",
    "    shape = ws.shapes[i-1]\n",
    "    shape_center_top = (shape.height/2)+shape.top\n",
    "    shape_center_left = (shape.width/2)+shape.left\n",
    "    \n",
    "    l_loc=[]\n",
    "    \n",
    "    for i in range(1,max_row+1):\n",
    "        if shape_center_top < l_row[i-1]:\n",
    "            l_loc.append(i-1)\n",
    "            break\n",
    "            \n",
    "    for i in range(1,max_col+1):\n",
    "        if shape_center_left < l_col[i-1]:\n",
    "            l_loc.append(i-1)\n",
    "            break\n",
    "    \n",
    "    shape_row=l_loc[0]\n",
    "    shape_col=l_loc[1]\n",
    "    \n",
    "    shape_cell_width=ws.range((shape_row,shape_col)).width\n",
    "    print(shape_cell_width)"
   ]
  },
  {
   "cell_type": "code",
   "execution_count": 65,
   "metadata": {},
   "outputs": [
    {
     "name": "stdout",
     "output_type": "stream",
     "text": [
      "shape1 location\n",
      "12.0\n",
      "24.0\n",
      "24.0\n",
      "shape2 location\n",
      "10.0\n",
      "24.0\n",
      "22.0\n",
      "shape3 location\n",
      "38.0\n",
      "24.0\n",
      "50.0\n",
      "shape4 location\n",
      "42.0\n",
      "24.0\n",
      "54.0\n",
      "shape5 location\n",
      "42.0\n",
      "24.0\n",
      "54.0\n",
      "shape6 location\n",
      "10.0\n",
      "24.0\n",
      "22.0\n",
      "shape7 location\n",
      "16.0\n",
      "24.0\n",
      "28.0\n",
      "shape8 location\n",
      "40.0\n",
      "24.0\n",
      "52.0\n",
      "shape9 location\n",
      "11.0\n",
      "24.0\n",
      "23.0\n",
      "shape10 location\n",
      "38.0\n",
      "24.0\n",
      "50.0\n",
      "shape11 location\n",
      "9.0\n",
      "24.0\n",
      "21.0\n",
      "shape12 location\n",
      "40.0\n",
      "24.0\n",
      "52.0\n",
      "shape13 location\n",
      "11.0\n",
      "24.0\n",
      "23.0\n",
      "shape14 location\n",
      "34.0\n",
      "24.0\n",
      "46.0\n"
     ]
    }
   ],
   "source": [
    "for i in range(1,len(shapes)+1):\n",
    "    print('shape'+str(i)+' location')\n",
    "    shape = ws.shapes[i-1]\n",
    "    shape_center_top = (shape.height/2)+shape.top\n",
    "    shape_center_left = (shape.width/2)+shape.left\n",
    "    \n",
    "    l_loc=[]\n",
    "    \n",
    "    for i in range(1,max_row+1):\n",
    "        if shape_center_top < l_row[i-1]:\n",
    "            l_loc.append(i-1)\n",
    "            break\n",
    "            \n",
    "    for i in range(1,max_col+1):\n",
    "        if shape_center_left < l_col[i-1]:\n",
    "            l_loc.append(i-1)\n",
    "            break\n",
    "    \n",
    "    shape_row=l_loc[0]\n",
    "    shape_col=l_loc[1]\n",
    "    \n",
    "    print(shape.left-l_col[shape_col-1])\n",
    "    print(shape.width)\n",
    "    print((shape.left-l_col[shape_col-1])+(shape.width/2))\n",
    "    \n",
    "    "
   ]
  },
  {
   "cell_type": "code",
   "execution_count": 66,
   "metadata": {},
   "outputs": [
    {
     "name": "stdout",
     "output_type": "stream",
     "text": [
      "shape1 location\n",
      "this shape is in left position\n",
      "shape2 location\n",
      "this shape is in left position\n",
      "shape3 location\n",
      "this shape is in right position\n",
      "shape4 location\n",
      "this shape is in right position\n",
      "shape5 location\n",
      "this shape is in right position\n",
      "shape6 location\n",
      "this shape is in left position\n",
      "shape7 location\n",
      "this shape is in left position\n",
      "shape8 location\n",
      "this shape is in right position\n",
      "shape9 location\n",
      "this shape is in left position\n",
      "shape10 location\n",
      "this shape is in right position\n",
      "shape11 location\n",
      "this shape is in left position\n",
      "shape12 location\n",
      "this shape is in right position\n",
      "shape13 location\n",
      "this shape is in left position\n",
      "shape14 location\n",
      "this shape is in right position\n"
     ]
    }
   ],
   "source": [
    "for i in range(1,len(shapes)+1):\n",
    "    print('shape'+str(i)+' location')\n",
    "    shape = ws.shapes[i-1]\n",
    "    shape_center_top = (shape.height/2)+shape.top\n",
    "    shape_center_left = (shape.width/2)+shape.left\n",
    "    \n",
    "    l_loc=[]\n",
    "    \n",
    "    for i in range(1,max_row+1):\n",
    "        if shape_center_top < l_row[i-1]:\n",
    "            l_loc.append(i-1)\n",
    "            break\n",
    "            \n",
    "    for i in range(1,max_col+1):\n",
    "        if shape_center_left < l_col[i-1]:\n",
    "            l_loc.append(i-1)\n",
    "            break\n",
    "    \n",
    "    shape_row=l_loc[0]\n",
    "    shape_col=l_loc[1]\n",
    "    \n",
    "    shape_cell_center=((ws.range((shape_row,shape_col)).width)/2)\n",
    "    \n",
    "    shape_center=((shape.left-l_col[shape_col-1])+(shape.width/2))\n",
    "    \n",
    "    if shape_cell_center > shape_center:\n",
    "        print('this shape is in left position')\n",
    "    elif shape_cell_center < shape_center:\n",
    "        print('this shape is in right position')\n",
    "    else:\n",
    "        print('error')"
   ]
  },
  {
   "cell_type": "code",
   "execution_count": 67,
   "metadata": {},
   "outputs": [
    {
     "data": {
      "text/plain": [
       "'aaa'"
      ]
     },
     "execution_count": 67,
     "metadata": {},
     "output_type": "execute_result"
    }
   ],
   "source": [
    "ws.range((2,1)).value"
   ]
  },
  {
   "cell_type": "code",
   "execution_count": 70,
   "metadata": {},
   "outputs": [
    {
     "name": "stdout",
     "output_type": "stream",
     "text": [
      "aaa:無\n",
      "ccc:無\n",
      "bbb:有\n",
      "ddd:有\n",
      "eee:有\n",
      "fff:無\n",
      "ggg:無\n",
      "hhh:有\n",
      "iii:無\n",
      "jjj:有\n",
      "kkk:無\n",
      "lll:有\n",
      "mmm:無\n",
      "nnn:有\n"
     ]
    }
   ],
   "source": [
    "for i in range(1,len(shapes)+1):\n",
    "    shape = ws.shapes[i-1]\n",
    "    shape_center_top = (shape.height/2)+shape.top\n",
    "    shape_center_left = (shape.width/2)+shape.left\n",
    "    \n",
    "    l_loc=[]\n",
    "    \n",
    "    for i in range(1,max_row+1):\n",
    "        if shape_center_top < l_row[i-1]:\n",
    "            l_loc.append(i-1)\n",
    "            break\n",
    "            \n",
    "    for i in range(1,max_col+1):\n",
    "        if shape_center_left < l_col[i-1]:\n",
    "            l_loc.append(i-1)\n",
    "            break\n",
    "    \n",
    "    shape_row=l_loc[0]\n",
    "    shape_col=l_loc[1]\n",
    "    \n",
    "    label = ws.range((shape_row,shape_col-1)).value\n",
    "    \n",
    "    shape_cell_center=((ws.range((shape_row,shape_col)).width)/2)\n",
    "    \n",
    "    shape_center=((shape.left-l_col[shape_col-1])+(shape.width/2))\n",
    "    \n",
    "    if shape_cell_center > shape_center:\n",
    "        print(label + ':無')\n",
    "    elif shape_cell_center < shape_center:\n",
    "        print(label + ':有')\n",
    "    else:\n",
    "        print('error')"
   ]
  },
  {
   "cell_type": "code",
   "execution_count": null,
   "metadata": {},
   "outputs": [],
   "source": []
  }
 ],
 "metadata": {
  "kernelspec": {
   "display_name": "Python 3",
   "language": "python",
   "name": "python3"
  },
  "language_info": {
   "codemirror_mode": {
    "name": "ipython",
    "version": 3
   },
   "file_extension": ".py",
   "mimetype": "text/x-python",
   "name": "python",
   "nbconvert_exporter": "python",
   "pygments_lexer": "ipython3",
   "version": "3.8.2"
  }
 },
 "nbformat": 4,
 "nbformat_minor": 4
}
