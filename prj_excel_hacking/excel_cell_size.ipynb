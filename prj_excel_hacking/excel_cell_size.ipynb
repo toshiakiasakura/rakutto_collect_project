{
 "cells": [
  {
   "cell_type": "code",
   "execution_count": 1,
   "metadata": {},
   "outputs": [],
   "source": [
    "import zipfile\n",
    "from zipfile import ZipFile, ZIP_DEFLATED, BadZipfile\n",
    "import lxml\n",
    "import glob\n",
    "from lxml import etree"
   ]
  },
  {
   "cell_type": "code",
   "execution_count": 2,
   "metadata": {},
   "outputs": [],
   "source": [
    "PATH = \"./hack_excel_files\""
   ]
  },
  {
   "cell_type": "code",
   "execution_count": 3,
   "metadata": {},
   "outputs": [],
   "source": [
    "path2xlsx = PATH + \"/*.xlsx\"\n",
    "xlsxpaths = glob.glob(path2xlsx)"
   ]
  },
  {
   "cell_type": "code",
   "execution_count": 4,
   "metadata": {},
   "outputs": [
    {
     "data": {
      "text/plain": [
       "['./hack_excel_files/excel_hacking_4.xlsx']"
      ]
     },
     "execution_count": 4,
     "metadata": {},
     "output_type": "execute_result"
    }
   ],
   "source": [
    "xlsxpaths"
   ]
  },
  {
   "cell_type": "code",
   "execution_count": 5,
   "metadata": {},
   "outputs": [
    {
     "name": "stdout",
     "output_type": "stream",
     "text": [
      "./hack_excel_files/excel_hacking_4.xlsx\n",
      "<Element {http://schemas.openxmlformats.org/spreadsheetml/2006/main}worksheet at 0x10f3719c0>\n"
     ]
    }
   ],
   "source": [
    "for xlsxpath in xlsxpaths:\n",
    "    print(xlsxpath)\n",
    "    archive = ZipFile(xlsxpath)\n",
    "    \n",
    "    sheetfile = \"xl/worksheets/sheet1.xml\"\n",
    "    fp = archive.open(sheetfile, 'r')\n",
    "    body = fp.read()\n",
    "    \n",
    "    root = etree.fromstring(body)\n",
    "    print(root)"
   ]
  },
  {
   "cell_type": "code",
   "execution_count": 6,
   "metadata": {},
   "outputs": [],
   "source": [
    "mynsmap = dict()\n",
    "mynsmap['x'] = root.nsmap[None]"
   ]
  },
  {
   "cell_type": "code",
   "execution_count": 7,
   "metadata": {},
   "outputs": [
    {
     "data": {
      "text/plain": [
       "{'x': 'http://schemas.openxmlformats.org/spreadsheetml/2006/main'}"
      ]
     },
     "execution_count": 7,
     "metadata": {},
     "output_type": "execute_result"
    }
   ],
   "source": [
    "mynsmap"
   ]
  },
  {
   "cell_type": "code",
   "execution_count": 8,
   "metadata": {},
   "outputs": [],
   "source": [
    "base = root.xpath('./x:sheetFormatPr', namespaces=mynsmap)[0]"
   ]
  },
  {
   "cell_type": "code",
   "execution_count": 9,
   "metadata": {},
   "outputs": [],
   "source": [
    "dic_base = base.attrib"
   ]
  },
  {
   "cell_type": "code",
   "execution_count": 10,
   "metadata": {},
   "outputs": [
    {
     "data": {
      "text/plain": [
       "{'baseColWidth': '10', 'defaultRowHeight': '20'}"
      ]
     },
     "execution_count": 10,
     "metadata": {},
     "output_type": "execute_result"
    }
   ],
   "source": [
    "dic_base"
   ]
  },
  {
   "cell_type": "code",
   "execution_count": 11,
   "metadata": {},
   "outputs": [],
   "source": [
    "cols = root.xpath('./x:cols/x:col', namespaces=mynsmap)"
   ]
  },
  {
   "cell_type": "code",
   "execution_count": 77,
   "metadata": {},
   "outputs": [],
   "source": [
    "max_col = 10"
   ]
  },
  {
   "cell_type": "code",
   "execution_count": 49,
   "metadata": {},
   "outputs": [],
   "source": [
    "dic_col = {}\n",
    "for n in range(1,len(cols)+1):\n",
    "    col = root.xpath('./x:cols/x:col', namespaces=mynsmap)[n-1]\n",
    "    for c in range (int(col.attrib['min']),max_col+1):\n",
    "        if (c<=int(col.attrib['max'])):\n",
    "            dic_col[c] = float(col.attrib['width'])\n",
    "        else:\n",
    "            dic_col[c] = float(dic_base['baseColWidth'])"
   ]
  },
  {
   "cell_type": "code",
   "execution_count": 53,
   "metadata": {},
   "outputs": [
    {
     "data": {
      "text/plain": [
       "{1: 5.42578125,\n",
       " 2: 5.42578125,\n",
       " 3: 18.85546875,\n",
       " 4: 12.5703125,\n",
       " 5: 7.42578125,\n",
       " 6: 10.0,\n",
       " 7: 10.0,\n",
       " 8: 10.0,\n",
       " 9: 10.0,\n",
       " 10: 10.0}"
      ]
     },
     "execution_count": 53,
     "metadata": {},
     "output_type": "execute_result"
    }
   ],
   "source": [
    "dic_col"
   ]
  },
  {
   "cell_type": "code",
   "execution_count": 67,
   "metadata": {},
   "outputs": [],
   "source": [
    "rows = root.xpath('./x:sheetData/x:row', namespaces=mynsmap)"
   ]
  },
  {
   "cell_type": "code",
   "execution_count": 78,
   "metadata": {},
   "outputs": [],
   "source": [
    "max_row = 10"
   ]
  },
  {
   "cell_type": "code",
   "execution_count": 75,
   "metadata": {},
   "outputs": [],
   "source": [
    "dic_row = {}\n",
    "for n in range(1,len(rows)+1):\n",
    "    row = root.xpath('./x:sheetData/x:row', namespaces=mynsmap)[n-1]\n",
    "    for r in range (int(row.attrib['r']),max_col+1):\n",
    "        if (r==int(row.attrib['r'])):\n",
    "            dic_row[r] = float(row.get('ht',dic_base['defaultRowHeight']))\n",
    "        else:\n",
    "            dic_row[r] = float(dic_base['defaultRowHeight'])"
   ]
  },
  {
   "cell_type": "code",
   "execution_count": 76,
   "metadata": {},
   "outputs": [
    {
     "data": {
      "text/plain": [
       "{1: 77.0,\n",
       " 2: 20.0,\n",
       " 3: 56.0,\n",
       " 4: 20.0,\n",
       " 5: 20.0,\n",
       " 6: 20.0,\n",
       " 7: 20.0,\n",
       " 8: 20.0,\n",
       " 9: 20.0,\n",
       " 10: 20.0}"
      ]
     },
     "execution_count": 76,
     "metadata": {},
     "output_type": "execute_result"
    }
   ],
   "source": [
    "dic_row"
   ]
  }
 ],
 "metadata": {
  "kernelspec": {
   "display_name": "Python 3",
   "language": "python",
   "name": "python3"
  },
  "language_info": {
   "codemirror_mode": {
    "name": "ipython",
    "version": 3
   },
   "file_extension": ".py",
   "mimetype": "text/x-python",
   "name": "python",
   "nbconvert_exporter": "python",
   "pygments_lexer": "ipython3",
   "version": "3.8.2"
  }
 },
 "nbformat": 4,
 "nbformat_minor": 4
}
