{
 "cells": [
  {
   "cell_type": "code",
   "execution_count": 69,
   "metadata": {},
   "outputs": [],
   "source": [
    "import zipfile\n",
    "from zipfile import ZipFile, ZIP_DEFLATED, BadZipfile\n",
    "import lxml\n",
    "import glob\n",
    "from lxml import etree"
   ]
  },
  {
   "cell_type": "code",
   "execution_count": 70,
   "metadata": {},
   "outputs": [],
   "source": [
    "PATH = \"./hack_excel_files\""
   ]
  },
  {
   "cell_type": "code",
   "execution_count": 71,
   "metadata": {},
   "outputs": [],
   "source": [
    "path2xlsx = PATH + \"/*.xlsx\"\n",
    "xlsxpaths = glob.glob(path2xlsx)"
   ]
  },
  {
   "cell_type": "code",
   "execution_count": 72,
   "metadata": {},
   "outputs": [
    {
     "data": {
      "text/plain": [
       "['./hack_excel_files/excel_haking_yn.xlsx']"
      ]
     },
     "execution_count": 72,
     "metadata": {},
     "output_type": "execute_result"
    }
   ],
   "source": [
    "xlsxpaths"
   ]
  },
  {
   "cell_type": "code",
   "execution_count": 73,
   "metadata": {},
   "outputs": [],
   "source": [
    "ns={'xdr':'http://schemas.openxmlformats.org/drawingml/2006/spreadsheetDrawing'}"
   ]
  },
  {
   "cell_type": "code",
   "execution_count": null,
   "metadata": {},
   "outputs": [],
   "source": []
  },
  {
   "cell_type": "code",
   "execution_count": 76,
   "metadata": {},
   "outputs": [
    {
     "name": "stdout",
     "output_type": "stream",
     "text": [
      "./hack_excel_files/excel_haking_yn.xlsx\n",
      "drawing1\n",
      "43.333333333333336\n",
      "10.5\n",
      "drawing2\n",
      "43.333333333333336\n",
      "8.5\n",
      "drawing3\n",
      "43.333333333333336\n",
      "10.5\n",
      "drawing4\n",
      "43.333333333333336\n",
      "11.5\n"
     ]
    }
   ],
   "source": [
    "for xlsxpath in xlsxpaths:\n",
    "    print(xlsxpath)\n",
    "    archive = ZipFile(xlsxpath)\n",
    "\n",
    "    drawingfile = \"xl/drawings/drawing1.xml\"\n",
    "    \n",
    "    fp = archive.open(drawingfile, 'r')\n",
    "    body = fp.read()\n",
    "    \n",
    "    root = etree.fromstring(body)\n",
    "    \n",
    "    twoCellAnchor = root.xpath('./xdr:twoCellAnchor', namespaces={'xdr':'http://schemas.openxmlformats.org/drawingml/2006/spreadsheetDrawing'})\n",
    "    \n",
    "    for n in range(1,len(twoCellAnchor)+1):\n",
    "        fromcolOff = root.xpath('./xdr:twoCellAnchor/xdr:from/xdr:colOff', namespaces=ns)[n-1]\n",
    "        fromrowOff = root.xpath('./xdr:twoCellAnchor/xdr:from/xdr:rowOff', namespaces=ns)[n-1]\n",
    "        tocolOff = root.xpath('./xdr:twoCellAnchor/xdr:to/xdr:colOff', namespaces=ns)[n-1]\n",
    "        torowOff = root.xpath('./xdr:twoCellAnchor/xdr:to/xdr:rowOff', namespaces=ns)[n-1]\n",
    "        \n",
    "        middlecolInPoint = ((float(fromcolOff.text)+float(tocolOff.text))/2)/12700\n",
    "        middlerowInPixel = ((float(fromrowOff.text)+float(torowOff.text))/2)/12700\n",
    "        \n",
    "        print('drawing'+str(n))\n",
    "        print(middlecolInPixel)\n",
    "        print(middlerowInPixel)"
   ]
  },
  {
   "cell_type": "code",
   "execution_count": 74,
   "metadata": {},
   "outputs": [
    {
     "name": "stdout",
     "output_type": "stream",
     "text": [
      "./hack_excel_files/excel_haking_yn.xlsx\n",
      "drawing1\n",
      "1\n",
      "152400\n",
      "0\n",
      "228600\n",
      "1\n",
      "457200\n",
      "2\n",
      "38100\n",
      "drawing2\n",
      "1\n",
      "152400\n",
      "2\n",
      "203200\n",
      "1\n",
      "457200\n",
      "4\n",
      "12700\n",
      "drawing3\n",
      "1\n",
      "482600\n",
      "1\n",
      "228600\n",
      "1\n",
      "787400\n",
      "3\n",
      "38100\n",
      "drawing4\n",
      "1\n",
      "482600\n",
      "3\n",
      "241300\n",
      "1\n",
      "787400\n",
      "5\n",
      "50800\n"
     ]
    }
   ],
   "source": [
    "for xlsxpath in xlsxpaths:\n",
    "    print(xlsxpath)\n",
    "    archive = ZipFile(xlsxpath)\n",
    "    \n",
    "    drawingfile = \"xl/drawings/drawing1.xml\"\n",
    "    \n",
    "    fp = archive.open(drawingfile, 'r')\n",
    "    body = fp.read()\n",
    "    \n",
    "    root = etree.fromstring(body)\n",
    "    \n",
    "    twoCellAnchor = root.xpath('./xdr:twoCellAnchor', namespaces={'xdr':'http://schemas.openxmlformats.org/drawingml/2006/spreadsheetDrawing'})\n",
    "    \n",
    "    for n in range(1,len(twoCellAnchor)+1):\n",
    "        fromcol = root.xpath('./xdr:twoCellAnchor/xdr:from/xdr:col', namespaces=ns)[n-1]\n",
    "        fromcolOff = root.xpath('./xdr:twoCellAnchor/xdr:from/xdr:colOff', namespaces=ns)[n-1]\n",
    "        fromrow = root.xpath('./xdr:twoCellAnchor/xdr:from/xdr:row', namespaces=ns)[n-1]\n",
    "        fromrowOff = root.xpath('./xdr:twoCellAnchor/xdr:from/xdr:rowOff', namespaces=ns)[n-1]\n",
    "        tocol = root.xpath('./xdr:twoCellAnchor/xdr:to/xdr:col', namespaces=ns)[n-1]\n",
    "        tocolOff = root.xpath('./xdr:twoCellAnchor/xdr:to/xdr:colOff', namespaces=ns)[n-1]\n",
    "        torow = root.xpath('./xdr:twoCellAnchor/xdr:to/xdr:row', namespaces=ns)[n-1]\n",
    "        torowOff = root.xpath('./xdr:twoCellAnchor/xdr:to/xdr:rowOff', namespaces=ns)[n-1]\n",
    "        \n",
    "        print('drawing'+str(n))\n",
    "        print(fromcol.text)\n",
    "        print(fromcolOff.text)\n",
    "        print(fromrow.text)\n",
    "        print(fromrowOff.text)\n",
    "        print(tocol.text)\n",
    "        print(tocolOff.text)\n",
    "        print(torow.text)\n",
    "        print(torowOff.text)"
   ]
  },
  {
   "cell_type": "code",
   "execution_count": 67,
   "metadata": {},
   "outputs": [
    {
     "name": "stdout",
     "output_type": "stream",
     "text": [
      "./hack_excel_files/excel_hacking_2.xlsx\n",
      "drawing1\n",
      "25400.0\n",
      "19050.0\n",
      "drawing2\n",
      "476250.0\n",
      "57150.0\n",
      "drawing3\n",
      "431800.0\n",
      "82550.0\n",
      "drawing4\n",
      "438150.0\n",
      "82550.0\n",
      "./hack_excel_files/excel_hacking_1.xlsx\n",
      "drawing1\n",
      "25400.0\n",
      "19050.0\n",
      "drawing2\n",
      "50800.0\n",
      "6350.0\n",
      "drawing3\n",
      "412750.0\n",
      "31750.0\n"
     ]
    }
   ],
   "source": [
    "for xlsxpath in xlsxpaths:\n",
    "    print(xlsxpath)\n",
    "    archive = ZipFile(xlsxpath)\n",
    "\n",
    "    drawingfile = \"xl/drawings/drawing1.xml\"\n",
    "    \n",
    "    fp = archive.open(drawingfile, 'r')\n",
    "    body = fp.read()\n",
    "    \n",
    "    root = etree.fromstring(body)\n",
    "    \n",
    "    twoCellAnchor = root.xpath('./xdr:twoCellAnchor', namespaces={'xdr':'http://schemas.openxmlformats.org/drawingml/2006/spreadsheetDrawing'})\n",
    "    \n",
    "    for n in range(1,len(twoCellAnchor)+1):\n",
    "        fromcolOff = root.xpath('./xdr:twoCellAnchor/xdr:from/xdr:colOff', namespaces=ns)[n-1]\n",
    "        fromrowOff = root.xpath('./xdr:twoCellAnchor/xdr:from/xdr:rowOff', namespaces=ns)[n-1]\n",
    "        tocolOff = root.xpath('./xdr:twoCellAnchor/xdr:to/xdr:colOff', namespaces=ns)[n-1]\n",
    "        torowOff = root.xpath('./xdr:twoCellAnchor/xdr:to/xdr:rowOff', namespaces=ns)[n-1]\n",
    "        \n",
    "        middlecol = (float(fromcolOff.text)+float(tocolOff.text))/2\n",
    "        middlerow = (float(fromrowOff.text)+float(torowOff.text))/2\n",
    "        \n",
    "        print('drawing'+str(n))\n",
    "        print(middlecol)\n",
    "        print(middlerow)"
   ]
  },
  {
   "cell_type": "code",
   "execution_count": 1,
   "metadata": {},
   "outputs": [
    {
     "name": "stderr",
     "output_type": "stream",
     "text": [
      "/Users/shun/.pyenv/versions/3.8.2/envs/my_global/lib/python3.8/site-packages/pandas/compat/__init__.py:117: UserWarning: Could not import the lzma module. Your installed Python is incomplete. Attempting to use lzma compression will result in a RuntimeError.\n",
      "  warnings.warn(msg)\n"
     ]
    }
   ],
   "source": [
    "import openpyxl"
   ]
  },
  {
   "cell_type": "code",
   "execution_count": 3,
   "metadata": {},
   "outputs": [
    {
     "ename": "NameError",
     "evalue": "name 'PATH' is not defined",
     "output_type": "error",
     "traceback": [
      "\u001b[0;31m--------------------------------------------------------\u001b[0m",
      "\u001b[0;31mNameError\u001b[0m              Traceback (most recent call last)",
      "\u001b[0;32m<ipython-input-3-ba08b0630c66>\u001b[0m in \u001b[0;36m<module>\u001b[0;34m\u001b[0m\n\u001b[0;32m----> 1\u001b[0;31m \u001b[0mpath2xlsx\u001b[0m \u001b[0;34m=\u001b[0m \u001b[0mPATH\u001b[0m \u001b[0;34m+\u001b[0m \u001b[0;34m\"/*.xlsx\"\u001b[0m\u001b[0;34m\u001b[0m\u001b[0;34m\u001b[0m\u001b[0m\n\u001b[0m\u001b[1;32m      2\u001b[0m \u001b[0mpaths\u001b[0m \u001b[0;34m=\u001b[0m \u001b[0mglob\u001b[0m\u001b[0;34m.\u001b[0m\u001b[0mglob\u001b[0m\u001b[0;34m(\u001b[0m\u001b[0mpath2xlsx\u001b[0m\u001b[0;34m)\u001b[0m\u001b[0;34m\u001b[0m\u001b[0;34m\u001b[0m\u001b[0m\n\u001b[1;32m      3\u001b[0m \u001b[0;34m\u001b[0m\u001b[0m\n\u001b[1;32m      4\u001b[0m \u001b[0;32mfor\u001b[0m \u001b[0mpath\u001b[0m \u001b[0;32min\u001b[0m \u001b[0mpaths\u001b[0m\u001b[0;34m:\u001b[0m\u001b[0;34m\u001b[0m\u001b[0;34m\u001b[0m\u001b[0m\n\u001b[1;32m      5\u001b[0m         \u001b[0mwb\u001b[0m \u001b[0;34m=\u001b[0m \u001b[0mopenpyxl\u001b[0m\u001b[0;34m.\u001b[0m\u001b[0mload_workbook\u001b[0m\u001b[0;34m(\u001b[0m\u001b[0mpath\u001b[0m\u001b[0;34m)\u001b[0m\u001b[0;34m\u001b[0m\u001b[0;34m\u001b[0m\u001b[0m\n",
      "\u001b[0;31mNameError\u001b[0m: name 'PATH' is not defined"
     ]
    }
   ],
   "source": [
    "path2xlsx = PATH + \"/*.xlsx\"\n",
    "paths = glob.glob(path2xlsx)\n",
    "    \n",
    "for path in paths:\n",
    "    wb = openpyxl.load_workbook(path)"
   ]
  },
  {
   "cell_type": "code",
   "execution_count": null,
   "metadata": {},
   "outputs": [],
   "source": [
    "wb = openpyxl.load_workbook(path)"
   ]
  }
 ],
 "metadata": {
  "kernelspec": {
   "display_name": "Python 3",
   "language": "python",
   "name": "python3"
  },
  "language_info": {
   "codemirror_mode": {
    "name": "ipython",
    "version": 3
   },
   "file_extension": ".py",
   "mimetype": "text/x-python",
   "name": "python",
   "nbconvert_exporter": "python",
   "pygments_lexer": "ipython3",
   "version": "3.8.2"
  }
 },
 "nbformat": 4,
 "nbformat_minor": 4
}
