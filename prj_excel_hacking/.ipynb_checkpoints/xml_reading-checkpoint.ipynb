{
 "cells": [
  {
   "cell_type": "code",
   "execution_count": 16,
   "metadata": {},
   "outputs": [],
   "source": [
    "import zipfile\n",
    "import lxml\n",
    "import glob\n",
    "from lxml import etree"
   ]
  },
  {
   "cell_type": "code",
   "execution_count": 17,
   "metadata": {},
   "outputs": [],
   "source": [
    "PATH = \"./hack_excel_files\""
   ]
  },
  {
   "cell_type": "code",
   "execution_count": 18,
   "metadata": {},
   "outputs": [],
   "source": [
    "path2xlsx = PATH + \"/*.xlsx\"\n",
    "xlsxpaths = glob.glob(path2xlsx)"
   ]
  },
  {
   "cell_type": "code",
   "execution_count": 19,
   "metadata": {},
   "outputs": [],
   "source": [
    "for xlsxpath in xlsxpaths:\n",
    "    unzip_file = xlsxpath.replace(\".xlsx\", \"\")\n",
    "    with zipfile.ZipFile(xlsxpath) as zf:\n",
    "        zf.extractall(unzip_file)\n",
    "    \n",
    "    path2xml = unzip_file + \"/xl/drawings/*.xml\"\n",
    "    \n",
    " "
   ]
  },
  {
   "cell_type": "code",
   "execution_count": 20,
   "metadata": {},
   "outputs": [
    {
     "data": {
      "text/plain": [
       "'./hack_excel_files/excel_hacking/xl/drawings/*.xml'"
      ]
     },
     "execution_count": 20,
     "metadata": {},
     "output_type": "execute_result"
    }
   ],
   "source": [
    "path2xml"
   ]
  },
  {
   "cell_type": "code",
   "execution_count": null,
   "metadata": {},
   "outputs": [],
   "source": [
    "   xmlpaths = glob.glob(path2xml)\n",
    "    \n",
    "    for xmlpath in xmlpaths:\n",
    "        tree = etree.parse(xmlpath)\n",
    "        pathOutput = xmlpath[:-4] + \"_pp.xml\"\n",
    "        tree.write(pathOutput, pretty_print=True)"
   ]
  },
  {
   "cell_type": "code",
   "execution_count": null,
   "metadata": {},
   "outputs": [],
   "source": [
    "Desktop/github/rakutto_collect_project/prj_excel_hacking/hack_excel_files/excel_hacking/xl/drawings/drawing1.xml"
   ]
  },
  {
   "cell_type": "code",
   "execution_count": null,
   "metadata": {},
   "outputs": [],
   "source": [
    "O_FILE = PATH.replace(\".xlsx\", \"\")\n",
    "\n",
    "\n",
    "\twith zipfile.ZipFile(PATH) as zf:\n",
    "\t    zf.extractall(O_FILE)\n",
    "\n",
    "\tpath2xml = O_FILE + \"/xl/drawings/*.xml\"\n",
    "\tpaths = glob.glob(path2xml)\n",
    "\tfor path in paths :\n",
    "\t\ttree = etree.parse(path)\n",
    "\t\tpathOutput = path[:-4] + \"_pp.xml\"\n",
    "\t\ttree.write(pathOutput, pretty_print=True)\n"
   ]
  }
 ],
 "metadata": {
  "kernelspec": {
   "display_name": "Python 3",
   "language": "python",
   "name": "python3"
  },
  "language_info": {
   "codemirror_mode": {
    "name": "ipython",
    "version": 3
   },
   "file_extension": ".py",
   "mimetype": "text/x-python",
   "name": "python",
   "nbconvert_exporter": "python",
   "pygments_lexer": "ipython3",
   "version": "3.8.2"
  }
 },
 "nbformat": 4,
 "nbformat_minor": 4
}
