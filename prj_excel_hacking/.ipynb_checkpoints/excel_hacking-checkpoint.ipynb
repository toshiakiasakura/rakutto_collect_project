{
 "cells": [
  {
   "cell_type": "code",
   "execution_count": 106,
   "metadata": {},
   "outputs": [],
   "source": [
    "from zipfile import ZipFile, ZIP_DEFLATED, BadZipfile\n",
    "import lxml\n",
    "from lxml import etree"
   ]
  },
  {
   "cell_type": "code",
   "execution_count": 107,
   "metadata": {},
   "outputs": [],
   "source": [
    "PATH = \"./hack_excel_files\""
   ]
  },
  {
   "cell_type": "code",
   "execution_count": 108,
   "metadata": {},
   "outputs": [],
   "source": [
    "path2xlsx = PATH + \"/*.xlsx\"\n",
    "paths = glob.glob(path2xlsx)"
   ]
  },
  {
   "cell_type": "code",
   "execution_count": 109,
   "metadata": {},
   "outputs": [
    {
     "name": "stdout",
     "output_type": "stream",
     "text": [
      "zip info: [Content_Types].xml\n",
      "zip info: _rels/.rels\n",
      "zip info: xl/_rels/workbook.xml.rels\n",
      "zip info: xl/workbook.xml\n",
      "zip info: xl/drawings/drawing1.xml\n",
      "zip info: xl/styles.xml\n",
      "zip info: xl/worksheets/_rels/sheet1.xml.rels\n",
      "zip info: xl/theme/theme1.xml\n",
      "zip info: xl/worksheets/sheet1.xml\n",
      "zip info: docProps/app.xml\n",
      "zip info: docProps/core.xml\n"
     ]
    }
   ],
   "source": [
    "for path in paths:\n",
    "    archive = ZipFile(path)\n",
    "    for _i in archive.infolist():\n",
    "        print('zip info: {}'.format(_i.filename))"
   ]
  },
  {
   "cell_type": "code",
   "execution_count": 110,
   "metadata": {},
   "outputs": [],
   "source": [
    "NS_XLSX = 'http://schemas.openxmlformats.org/drawingml/2006/spreadsheetDrawing'\n",
    "\n",
    "def trim_ns(tag, namespace=NS_XLSX):\n",
    "    return str(tag).replace('{%s}' % NS_XLSX, '')"
   ]
  },
  {
   "cell_type": "code",
   "execution_count": 111,
   "metadata": {},
   "outputs": [],
   "source": [
    "tree = etree.parse(archive.open('xl/drawings/drawing1.xml'))"
   ]
  },
  {
   "cell_type": "code",
   "execution_count": 112,
   "metadata": {},
   "outputs": [],
   "source": [
    "root = tree.getroot()"
   ]
  },
  {
   "cell_type": "code",
   "execution_count": 113,
   "metadata": {},
   "outputs": [
    {
     "name": "stdout",
     "output_type": "stream",
     "text": [
      "root tag = {http://schemas.openxmlformats.org/drawingml/2006/spreadsheetDrawing}wsDr\n",
      "<xdr:wsDr xmlns:xdr=\"http://schemas.openxmlformats.org/drawingml/2006/spreadsheetDrawing\" xmlns:a=\"http://schemas.openxmlformats.org/drawingml/2006/main\"><xdr:twoCellAnchor><xdr:from><xdr:col>4</xdr:col><xdr:colOff>38100</xdr:colOff><xdr:row>4</xdr:row><xdr:rowOff>0</xdr:rowOff></xdr:from><xdr:to><xdr:col>5</xdr:col><xdr:colOff>12700</xdr:colOff><xdr:row>5</xdr:row><xdr:rowOff>38100</xdr:rowOff></xdr:to><xdr:sp macro=\"\" textlink=\"\"><xdr:nvSpPr><xdr:cNvPr id=\"2\" name=\"Frame 1\"><a:extLst><a:ext uri=\"{FF2B5EF4-FFF2-40B4-BE49-F238E27FC236}\"><a16:creationId xmlns:a16=\"http://schemas.microsoft.com/office/drawing/2014/main\" id=\"{C228E8E4-D808-EC4F-983E-EB742FCC14BF}\"/></a:ext></a:extLst></xdr:cNvPr><xdr:cNvSpPr/></xdr:nvSpPr><xdr:spPr><a:xfrm><a:off x=\"3340100\" y=\"812800\"/><a:ext cx=\"546100\" cy=\"241300\"/></a:xfrm><a:prstGeom prst=\"frame\"><a:avLst/></a:prstGeom></xdr:spPr><xdr:style><a:lnRef idx=\"2\"><a:schemeClr val=\"accent1\"><a:shade val=\"50000\"/></a:schemeClr></a:lnRef><a:fillRef idx=\"1\"><a:schemeClr val=\"accent1\"/></a:fillRef><a:effectRef idx=\"0\"><a:schemeClr val=\"accent1\"/></a:effectRef><a:fontRef idx=\"minor\"><a:schemeClr val=\"lt1\"/></a:fontRef></xdr:style><xdr:txBody><a:bodyPr vertOverflow=\"clip\" horzOverflow=\"clip\" rtlCol=\"0\" anchor=\"t\"/><a:lstStyle/><a:p><a:pPr algn=\"l\"/><a:endParaRPr lang=\"en-US\" sz=\"1100\"><a:solidFill><a:schemeClr val=\"tx1\"/></a:solidFill></a:endParaRPr></a:p></xdr:txBody></xdr:sp><xdr:clientData/></xdr:twoCellAnchor><xdr:twoCellAnchor><xdr:from><xdr:col>0</xdr:col><xdr:colOff>63500</xdr:colOff><xdr:row>1</xdr:row><xdr:rowOff>12700</xdr:rowOff></xdr:from><xdr:to><xdr:col>1</xdr:col><xdr:colOff>38100</xdr:colOff><xdr:row>2</xdr:row><xdr:rowOff>0</xdr:rowOff></xdr:to><xdr:sp macro=\"\" textlink=\"\"><xdr:nvSpPr><xdr:cNvPr id=\"3\" name=\"Frame 2\"><a:extLst><a:ext uri=\"{FF2B5EF4-FFF2-40B4-BE49-F238E27FC236}\"><a16:creationId xmlns:a16=\"http://schemas.microsoft.com/office/drawing/2014/main\" id=\"{4FA24544-69AC-CB47-9E6A-8C6E9F050D36}\"/></a:ext></a:extLst></xdr:cNvPr><xdr:cNvSpPr/></xdr:nvSpPr><xdr:spPr><a:xfrm><a:off x=\"63500\" y=\"215900\"/><a:ext cx=\"800100\" cy=\"190500\"/></a:xfrm><a:prstGeom prst=\"frame\"><a:avLst/></a:prstGeom></xdr:spPr><xdr:style><a:lnRef idx=\"2\"><a:schemeClr val=\"accent1\"><a:shade val=\"50000\"/></a:schemeClr></a:lnRef><a:fillRef idx=\"1\"><a:schemeClr val=\"accent1\"/></a:fillRef><a:effectRef idx=\"0\"><a:schemeClr val=\"accent1\"/></a:effectRef><a:fontRef idx=\"minor\"><a:schemeClr val=\"lt1\"/></a:fontRef></xdr:style><xdr:txBody><a:bodyPr vertOverflow=\"clip\" horzOverflow=\"clip\" rtlCol=\"0\" anchor=\"t\"/><a:lstStyle/><a:p><a:pPr algn=\"l\"/><a:endParaRPr lang=\"en-US\" sz=\"1100\"><a:solidFill><a:schemeClr val=\"tx1\"/></a:solidFill></a:endParaRPr></a:p></xdr:txBody></xdr:sp><xdr:clientData/></xdr:twoCellAnchor><xdr:twoCellAnchor><xdr:from><xdr:col>0</xdr:col><xdr:colOff>12700</xdr:colOff><xdr:row>4</xdr:row><xdr:rowOff>38100</xdr:rowOff></xdr:from><xdr:to><xdr:col>0</xdr:col><xdr:colOff>812800</xdr:colOff><xdr:row>5</xdr:row><xdr:rowOff>25400</xdr:rowOff></xdr:to><xdr:sp macro=\"\" textlink=\"\"><xdr:nvSpPr><xdr:cNvPr id=\"4\" name=\"Frame 3\"><a:extLst><a:ext uri=\"{FF2B5EF4-FFF2-40B4-BE49-F238E27FC236}\"><a16:creationId xmlns:a16=\"http://schemas.microsoft.com/office/drawing/2014/main\" id=\"{17AAB7C2-3765-C946-A41F-D76E28EBFBAD}\"/></a:ext></a:extLst></xdr:cNvPr><xdr:cNvSpPr/></xdr:nvSpPr><xdr:spPr><a:xfrm><a:off x=\"12700\" y=\"850900\"/><a:ext cx=\"800100\" cy=\"190500\"/></a:xfrm><a:prstGeom prst=\"frame\"><a:avLst/></a:prstGeom></xdr:spPr><xdr:style><a:lnRef idx=\"2\"><a:schemeClr val=\"accent1\"><a:shade val=\"50000\"/></a:schemeClr></a:lnRef><a:fillRef idx=\"1\"><a:schemeClr val=\"accent1\"/></a:fillRef><a:effectRef idx=\"0\"><a:schemeClr val=\"accent1\"/></a:effectRef><a:fontRef idx=\"minor\"><a:schemeClr val=\"lt1\"/></a:fontRef></xdr:style><xdr:txBody><a:bodyPr vertOverflow=\"clip\" horzOverflow=\"clip\" rtlCol=\"0\" anchor=\"t\"/><a:lstStyle/><a:p><a:pPr algn=\"l\"/><a:endParaRPr lang=\"en-US\" sz=\"1100\"><a:solidFill><a:schemeClr val=\"tx1\"/></a:solidFill></a:endParaRPr></a:p></xdr:txBody></xdr:sp><xdr:clientData/></xdr:twoCellAnchor></xdr:wsDr>\n"
     ]
    }
   ],
   "source": [
    "print( 'root tag = %s' % root.tag )\n",
    "print( etree.tostring(tree).decode() )"
   ]
  },
  {
   "cell_type": "code",
   "execution_count": 116,
   "metadata": {},
   "outputs": [
    {
     "name": "stdout",
     "output_type": "stream",
     "text": [
      "== col ==\n",
      "*** 4\n",
      "*** 5\n",
      "*** 0\n",
      "*** 1\n",
      "*** 0\n",
      "*** 0\n"
     ]
    }
   ],
   "source": [
    "print( '== col ==')\n",
    "for col in root.iter('{http://schemas.openxmlformats.org/drawingml/2006/spreadsheetDrawing}col'):\n",
    "    print( '*** %s' % col.text )"
   ]
  },
  {
   "cell_type": "code",
   "execution_count": 117,
   "metadata": {},
   "outputs": [
    {
     "name": "stdout",
     "output_type": "stream",
     "text": [
      "== row ==\n",
      "*** 4\n",
      "*** 5\n",
      "*** 1\n",
      "*** 2\n",
      "*** 4\n",
      "*** 5\n"
     ]
    }
   ],
   "source": [
    "print( '== row ==')\n",
    "for row in root.iter('{http://schemas.openxmlformats.org/drawingml/2006/spreadsheetDrawing}row'):\n",
    "    print( '*** %s' % row.text )"
   ]
  },
  {
   "cell_type": "code",
   "execution_count": 119,
   "metadata": {},
   "outputs": [
    {
     "name": "stdout",
     "output_type": "stream",
     "text": [
      "== colOff ==\n",
      "*** 38100\n",
      "*** 12700\n",
      "*** 63500\n",
      "*** 38100\n",
      "*** 12700\n",
      "*** 812800\n"
     ]
    }
   ],
   "source": [
    "print( '== colOff ==')\n",
    "for colOff in root.iter('{http://schemas.openxmlformats.org/drawingml/2006/spreadsheetDrawing}colOff'):\n",
    "    print( '*** %s' % colOff.text )"
   ]
  },
  {
   "cell_type": "code",
   "execution_count": 120,
   "metadata": {},
   "outputs": [
    {
     "name": "stdout",
     "output_type": "stream",
     "text": [
      "== rowOff ==\n",
      "*** 0\n",
      "*** 38100\n",
      "*** 12700\n",
      "*** 0\n",
      "*** 38100\n",
      "*** 25400\n"
     ]
    }
   ],
   "source": [
    "print( '== rowOff ==')\n",
    "for rowOff in root.iter('{http://schemas.openxmlformats.org/drawingml/2006/spreadsheetDrawing}rowOff'):\n",
    "    print( '*** %s' % rowOff.text )"
   ]
  },
  {
   "cell_type": "code",
   "execution_count": null,
   "metadata": {},
   "outputs": [],
   "source": [
    "\n",
    "print(\"{tag}\".format(tag=trim_ns(root_elem.tag)))\n",
    "for _e in root_elem:\n",
    "    child_elem = _e\n",
    "    print(\"  |  \")\n",
    "    print(\"  +--- {tag}\".format(tag=trim_ns(_e.tag)))\n",
    "    for _e in child_elem:\n",
    "        mago_elem = _e\n",
    "        print(\"  　　|  \")\n",
    "        print(\"  　　+--- {tag}\".format(tag=trim_ns(_e.tag)))\n",
    "        for _e in mago_elem:\n",
    "            mago_elem = _e\n",
    "            print(\"  　　　　|  \")\n",
    "            print((\"  　　　　+--- {tag}\".format(tag=trim_ns(_e.tag)))+(\" {value}\".format(value=trim_ns(_e.text))))"
   ]
  },
  {
   "cell_type": "code",
   "execution_count": 76,
   "metadata": {},
   "outputs": [
    {
     "data": {
      "text/plain": [
       "'wsDr'"
      ]
     },
     "execution_count": 76,
     "metadata": {},
     "output_type": "execute_result"
    }
   ],
   "source": [
    "trim_ns(root_elem.tag)"
   ]
  },
  {
   "cell_type": "code",
   "execution_count": 97,
   "metadata": {},
   "outputs": [
    {
     "ename": "AttributeError",
     "evalue": "'str' object has no attribute 'tag'",
     "output_type": "error",
     "traceback": [
      "\u001b[0;31m---------------------------------------------------------------------------\u001b[0m",
      "\u001b[0;31mAttributeError\u001b[0m                            Traceback (most recent call last)",
      "\u001b[0;32m<ipython-input-97-136ab91d214d>\u001b[0m in \u001b[0;36m<module>\u001b[0;34m\u001b[0m\n\u001b[0;32m----> 1\u001b[0;31m \u001b[0;34m'{http://schemas.openxmlformats.org/drawingml/2006/spreadsheetDrawing}twoCellAnchor'\u001b[0m\u001b[0;34m[\u001b[0m\u001b[0;36m0\u001b[0m\u001b[0;34m]\u001b[0m\u001b[0;34m.\u001b[0m\u001b[0mtag\u001b[0m\u001b[0;34m\u001b[0m\u001b[0;34m\u001b[0m\u001b[0m\n\u001b[0m",
      "\u001b[0;31mAttributeError\u001b[0m: 'str' object has no attribute 'tag'"
     ]
    }
   ],
   "source": [
    "root_elem[0].tag"
   ]
  },
  {
   "cell_type": "code",
   "execution_count": null,
   "metadata": {},
   "outputs": [],
   "source": []
  }
 ],
 "metadata": {
  "kernelspec": {
   "display_name": "Python 3",
   "language": "python",
   "name": "python3"
  },
  "language_info": {
   "codemirror_mode": {
    "name": "ipython",
    "version": 3
   },
   "file_extension": ".py",
   "mimetype": "text/x-python",
   "name": "python",
   "nbconvert_exporter": "python",
   "pygments_lexer": "ipython3",
   "version": "3.8.2"
  }
 },
 "nbformat": 4,
 "nbformat_minor": 4
}
